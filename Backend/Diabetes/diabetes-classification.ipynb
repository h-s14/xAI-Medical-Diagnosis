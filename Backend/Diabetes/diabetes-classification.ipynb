{
 "cells": [
  {
   "cell_type": "code",
   "execution_count": 7,
   "id": "d0bcb23b",
   "metadata": {
    "_cell_guid": "b1076dfc-b9ad-4769-8c92-a6c4dae69d19",
    "_uuid": "8f2839f25d086af736a60e9eeb907d3b93b6e0e5",
    "execution": {
     "iopub.execute_input": "2024-12-29T23:24:21.548380Z",
     "iopub.status.busy": "2024-12-29T23:24:21.548013Z",
     "iopub.status.idle": "2024-12-29T23:24:21.929326Z",
     "shell.execute_reply": "2024-12-29T23:24:21.928084Z"
    },
    "papermill": {
     "duration": 0.390208,
     "end_time": "2024-12-29T23:24:21.931432",
     "exception": false,
     "start_time": "2024-12-29T23:24:21.541224",
     "status": "completed"
    },
    "tags": []
   },
   "outputs": [],
   "source": [
    "import numpy as np # linear algebra\n",
    "import pandas as pd # data processing, CSV file I/O (e.g. pd.read_csv)"
   ]
  },
  {
   "cell_type": "code",
   "execution_count": 8,
   "id": "2759f690",
   "metadata": {
    "execution": {
     "iopub.execute_input": "2024-12-29T23:24:21.943016Z",
     "iopub.status.busy": "2024-12-29T23:24:21.942552Z",
     "iopub.status.idle": "2024-12-29T23:24:24.075144Z",
     "shell.execute_reply": "2024-12-29T23:24:24.074149Z"
    },
    "papermill": {
     "duration": 2.140459,
     "end_time": "2024-12-29T23:24:24.077086",
     "exception": false,
     "start_time": "2024-12-29T23:24:21.936627",
     "status": "completed"
    },
    "tags": []
   },
   "outputs": [],
   "source": [
    "import matplotlib.pyplot as plt\n",
    "import seaborn as sns \n",
    "from  sklearn.model_selection import train_test_split\n",
    "import warnings\n",
    "warnings.filterwarnings('ignore')\n",
    "\n",
    "\n",
    "from sklearn.linear_model import LogisticRegression\n",
    "from sklearn.svm import SVC\n",
    "from sklearn.ensemble import RandomForestClassifier\n",
    "from sklearn.ensemble import GradientBoostingClassifier\n",
    "\n",
    "from sklearn.metrics import accuracy_score"
   ]
  },
  {
   "cell_type": "code",
   "execution_count": 9,
   "id": "7edd5367",
   "metadata": {
    "execution": {
     "iopub.execute_input": "2024-12-29T23:24:24.088038Z",
     "iopub.status.busy": "2024-12-29T23:24:24.087553Z",
     "iopub.status.idle": "2024-12-29T23:24:24.104151Z",
     "shell.execute_reply": "2024-12-29T23:24:24.102986Z"
    },
    "papermill": {
     "duration": 0.024007,
     "end_time": "2024-12-29T23:24:24.105970",
     "exception": false,
     "start_time": "2024-12-29T23:24:24.081963",
     "status": "completed"
    },
    "tags": []
   },
   "outputs": [],
   "source": [
    "data =pd.read_csv('diabetes.csv')"
   ]
  },
  {
   "cell_type": "code",
   "execution_count": 10,
   "id": "3d6abb47",
   "metadata": {
    "execution": {
     "iopub.execute_input": "2024-12-29T23:24:24.116988Z",
     "iopub.status.busy": "2024-12-29T23:24:24.116608Z",
     "iopub.status.idle": "2024-12-29T23:24:24.138094Z",
     "shell.execute_reply": "2024-12-29T23:24:24.136983Z"
    },
    "papermill": {
     "duration": 0.02894,
     "end_time": "2024-12-29T23:24:24.139906",
     "exception": false,
     "start_time": "2024-12-29T23:24:24.110966",
     "status": "completed"
    },
    "tags": []
   },
   "outputs": [
    {
     "data": {
      "text/html": [
       "<div>\n",
       "<style scoped>\n",
       "    .dataframe tbody tr th:only-of-type {\n",
       "        vertical-align: middle;\n",
       "    }\n",
       "\n",
       "    .dataframe tbody tr th {\n",
       "        vertical-align: top;\n",
       "    }\n",
       "\n",
       "    .dataframe thead th {\n",
       "        text-align: right;\n",
       "    }\n",
       "</style>\n",
       "<table border=\"1\" class=\"dataframe\">\n",
       "  <thead>\n",
       "    <tr style=\"text-align: right;\">\n",
       "      <th></th>\n",
       "      <th>Pregnancies</th>\n",
       "      <th>Glucose</th>\n",
       "      <th>BloodPressure</th>\n",
       "      <th>SkinThickness</th>\n",
       "      <th>Insulin</th>\n",
       "      <th>BMI</th>\n",
       "      <th>DiabetesPedigreeFunction</th>\n",
       "      <th>Age</th>\n",
       "      <th>Outcome</th>\n",
       "    </tr>\n",
       "  </thead>\n",
       "  <tbody>\n",
       "    <tr>\n",
       "      <th>0</th>\n",
       "      <td>6</td>\n",
       "      <td>148</td>\n",
       "      <td>72</td>\n",
       "      <td>35</td>\n",
       "      <td>0</td>\n",
       "      <td>33.6</td>\n",
       "      <td>0.627</td>\n",
       "      <td>50</td>\n",
       "      <td>1</td>\n",
       "    </tr>\n",
       "    <tr>\n",
       "      <th>1</th>\n",
       "      <td>1</td>\n",
       "      <td>85</td>\n",
       "      <td>66</td>\n",
       "      <td>29</td>\n",
       "      <td>0</td>\n",
       "      <td>26.6</td>\n",
       "      <td>0.351</td>\n",
       "      <td>31</td>\n",
       "      <td>0</td>\n",
       "    </tr>\n",
       "    <tr>\n",
       "      <th>2</th>\n",
       "      <td>8</td>\n",
       "      <td>183</td>\n",
       "      <td>64</td>\n",
       "      <td>0</td>\n",
       "      <td>0</td>\n",
       "      <td>23.3</td>\n",
       "      <td>0.672</td>\n",
       "      <td>32</td>\n",
       "      <td>1</td>\n",
       "    </tr>\n",
       "    <tr>\n",
       "      <th>3</th>\n",
       "      <td>1</td>\n",
       "      <td>89</td>\n",
       "      <td>66</td>\n",
       "      <td>23</td>\n",
       "      <td>94</td>\n",
       "      <td>28.1</td>\n",
       "      <td>0.167</td>\n",
       "      <td>21</td>\n",
       "      <td>0</td>\n",
       "    </tr>\n",
       "    <tr>\n",
       "      <th>4</th>\n",
       "      <td>0</td>\n",
       "      <td>137</td>\n",
       "      <td>40</td>\n",
       "      <td>35</td>\n",
       "      <td>168</td>\n",
       "      <td>43.1</td>\n",
       "      <td>2.288</td>\n",
       "      <td>33</td>\n",
       "      <td>1</td>\n",
       "    </tr>\n",
       "  </tbody>\n",
       "</table>\n",
       "</div>"
      ],
      "text/plain": [
       "   Pregnancies  Glucose  BloodPressure  SkinThickness  Insulin   BMI  \\\n",
       "0            6      148             72             35        0  33.6   \n",
       "1            1       85             66             29        0  26.6   \n",
       "2            8      183             64              0        0  23.3   \n",
       "3            1       89             66             23       94  28.1   \n",
       "4            0      137             40             35      168  43.1   \n",
       "\n",
       "   DiabetesPedigreeFunction  Age  Outcome  \n",
       "0                     0.627   50        1  \n",
       "1                     0.351   31        0  \n",
       "2                     0.672   32        1  \n",
       "3                     0.167   21        0  \n",
       "4                     2.288   33        1  "
      ]
     },
     "execution_count": 10,
     "metadata": {},
     "output_type": "execute_result"
    }
   ],
   "source": [
    "data.head()"
   ]
  },
  {
   "cell_type": "code",
   "execution_count": 11,
   "id": "b2ace30d",
   "metadata": {
    "execution": {
     "iopub.execute_input": "2024-12-29T23:24:24.151345Z",
     "iopub.status.busy": "2024-12-29T23:24:24.151006Z",
     "iopub.status.idle": "2024-12-29T23:24:24.175021Z",
     "shell.execute_reply": "2024-12-29T23:24:24.173892Z"
    },
    "papermill": {
     "duration": 0.031981,
     "end_time": "2024-12-29T23:24:24.176955",
     "exception": false,
     "start_time": "2024-12-29T23:24:24.144974",
     "status": "completed"
    },
    "tags": []
   },
   "outputs": [
    {
     "name": "stdout",
     "output_type": "stream",
     "text": [
      "<class 'pandas.core.frame.DataFrame'>\n",
      "RangeIndex: 768 entries, 0 to 767\n",
      "Data columns (total 9 columns):\n",
      " #   Column                    Non-Null Count  Dtype  \n",
      "---  ------                    --------------  -----  \n",
      " 0   Pregnancies               768 non-null    int64  \n",
      " 1   Glucose                   768 non-null    int64  \n",
      " 2   BloodPressure             768 non-null    int64  \n",
      " 3   SkinThickness             768 non-null    int64  \n",
      " 4   Insulin                   768 non-null    int64  \n",
      " 5   BMI                       768 non-null    float64\n",
      " 6   DiabetesPedigreeFunction  768 non-null    float64\n",
      " 7   Age                       768 non-null    int64  \n",
      " 8   Outcome                   768 non-null    int64  \n",
      "dtypes: float64(2), int64(7)\n",
      "memory usage: 54.1 KB\n"
     ]
    }
   ],
   "source": [
    "data.info()"
   ]
  },
  {
   "cell_type": "code",
   "execution_count": 12,
   "id": "fe3f313c",
   "metadata": {
    "execution": {
     "iopub.execute_input": "2024-12-29T23:24:24.188324Z",
     "iopub.status.busy": "2024-12-29T23:24:24.187988Z",
     "iopub.status.idle": "2024-12-29T23:24:24.193600Z",
     "shell.execute_reply": "2024-12-29T23:24:24.192585Z"
    },
    "papermill": {
     "duration": 0.013007,
     "end_time": "2024-12-29T23:24:24.195111",
     "exception": false,
     "start_time": "2024-12-29T23:24:24.182104",
     "status": "completed"
    },
    "tags": []
   },
   "outputs": [
    {
     "data": {
      "text/plain": [
       "(768, 9)"
      ]
     },
     "execution_count": 12,
     "metadata": {},
     "output_type": "execute_result"
    }
   ],
   "source": [
    "data.shape"
   ]
  },
  {
   "cell_type": "code",
   "execution_count": 13,
   "id": "e05c9826",
   "metadata": {
    "execution": {
     "iopub.execute_input": "2024-12-29T23:24:24.206438Z",
     "iopub.status.busy": "2024-12-29T23:24:24.206124Z",
     "iopub.status.idle": "2024-12-29T23:24:24.213117Z",
     "shell.execute_reply": "2024-12-29T23:24:24.212181Z"
    },
    "papermill": {
     "duration": 0.014504,
     "end_time": "2024-12-29T23:24:24.214735",
     "exception": false,
     "start_time": "2024-12-29T23:24:24.200231",
     "status": "completed"
    },
    "tags": []
   },
   "outputs": [
    {
     "data": {
      "text/plain": [
       "Pregnancies                 0\n",
       "Glucose                     0\n",
       "BloodPressure               0\n",
       "SkinThickness               0\n",
       "Insulin                     0\n",
       "BMI                         0\n",
       "DiabetesPedigreeFunction    0\n",
       "Age                         0\n",
       "Outcome                     0\n",
       "dtype: int64"
      ]
     },
     "execution_count": 13,
     "metadata": {},
     "output_type": "execute_result"
    }
   ],
   "source": [
    "data.isnull().sum()"
   ]
  },
  {
   "cell_type": "code",
   "execution_count": 14,
   "id": "12c4abdf",
   "metadata": {
    "execution": {
     "iopub.execute_input": "2024-12-29T23:24:24.226386Z",
     "iopub.status.busy": "2024-12-29T23:24:24.226067Z",
     "iopub.status.idle": "2024-12-29T23:24:24.256794Z",
     "shell.execute_reply": "2024-12-29T23:24:24.255594Z"
    },
    "papermill": {
     "duration": 0.038758,
     "end_time": "2024-12-29T23:24:24.258659",
     "exception": false,
     "start_time": "2024-12-29T23:24:24.219901",
     "status": "completed"
    },
    "tags": []
   },
   "outputs": [
    {
     "data": {
      "text/html": [
       "<div>\n",
       "<style scoped>\n",
       "    .dataframe tbody tr th:only-of-type {\n",
       "        vertical-align: middle;\n",
       "    }\n",
       "\n",
       "    .dataframe tbody tr th {\n",
       "        vertical-align: top;\n",
       "    }\n",
       "\n",
       "    .dataframe thead th {\n",
       "        text-align: right;\n",
       "    }\n",
       "</style>\n",
       "<table border=\"1\" class=\"dataframe\">\n",
       "  <thead>\n",
       "    <tr style=\"text-align: right;\">\n",
       "      <th></th>\n",
       "      <th>Pregnancies</th>\n",
       "      <th>Glucose</th>\n",
       "      <th>BloodPressure</th>\n",
       "      <th>SkinThickness</th>\n",
       "      <th>Insulin</th>\n",
       "      <th>BMI</th>\n",
       "      <th>DiabetesPedigreeFunction</th>\n",
       "      <th>Age</th>\n",
       "      <th>Outcome</th>\n",
       "    </tr>\n",
       "  </thead>\n",
       "  <tbody>\n",
       "    <tr>\n",
       "      <th>count</th>\n",
       "      <td>768.000000</td>\n",
       "      <td>768.000000</td>\n",
       "      <td>768.000000</td>\n",
       "      <td>768.000000</td>\n",
       "      <td>768.000000</td>\n",
       "      <td>768.000000</td>\n",
       "      <td>768.000000</td>\n",
       "      <td>768.000000</td>\n",
       "      <td>768.000000</td>\n",
       "    </tr>\n",
       "    <tr>\n",
       "      <th>mean</th>\n",
       "      <td>3.845052</td>\n",
       "      <td>120.894531</td>\n",
       "      <td>69.105469</td>\n",
       "      <td>20.536458</td>\n",
       "      <td>79.799479</td>\n",
       "      <td>31.992578</td>\n",
       "      <td>0.471876</td>\n",
       "      <td>33.240885</td>\n",
       "      <td>0.348958</td>\n",
       "    </tr>\n",
       "    <tr>\n",
       "      <th>std</th>\n",
       "      <td>3.369578</td>\n",
       "      <td>31.972618</td>\n",
       "      <td>19.355807</td>\n",
       "      <td>15.952218</td>\n",
       "      <td>115.244002</td>\n",
       "      <td>7.884160</td>\n",
       "      <td>0.331329</td>\n",
       "      <td>11.760232</td>\n",
       "      <td>0.476951</td>\n",
       "    </tr>\n",
       "    <tr>\n",
       "      <th>min</th>\n",
       "      <td>0.000000</td>\n",
       "      <td>0.000000</td>\n",
       "      <td>0.000000</td>\n",
       "      <td>0.000000</td>\n",
       "      <td>0.000000</td>\n",
       "      <td>0.000000</td>\n",
       "      <td>0.078000</td>\n",
       "      <td>21.000000</td>\n",
       "      <td>0.000000</td>\n",
       "    </tr>\n",
       "    <tr>\n",
       "      <th>25%</th>\n",
       "      <td>1.000000</td>\n",
       "      <td>99.000000</td>\n",
       "      <td>62.000000</td>\n",
       "      <td>0.000000</td>\n",
       "      <td>0.000000</td>\n",
       "      <td>27.300000</td>\n",
       "      <td>0.243750</td>\n",
       "      <td>24.000000</td>\n",
       "      <td>0.000000</td>\n",
       "    </tr>\n",
       "    <tr>\n",
       "      <th>50%</th>\n",
       "      <td>3.000000</td>\n",
       "      <td>117.000000</td>\n",
       "      <td>72.000000</td>\n",
       "      <td>23.000000</td>\n",
       "      <td>30.500000</td>\n",
       "      <td>32.000000</td>\n",
       "      <td>0.372500</td>\n",
       "      <td>29.000000</td>\n",
       "      <td>0.000000</td>\n",
       "    </tr>\n",
       "    <tr>\n",
       "      <th>75%</th>\n",
       "      <td>6.000000</td>\n",
       "      <td>140.250000</td>\n",
       "      <td>80.000000</td>\n",
       "      <td>32.000000</td>\n",
       "      <td>127.250000</td>\n",
       "      <td>36.600000</td>\n",
       "      <td>0.626250</td>\n",
       "      <td>41.000000</td>\n",
       "      <td>1.000000</td>\n",
       "    </tr>\n",
       "    <tr>\n",
       "      <th>max</th>\n",
       "      <td>17.000000</td>\n",
       "      <td>199.000000</td>\n",
       "      <td>122.000000</td>\n",
       "      <td>99.000000</td>\n",
       "      <td>846.000000</td>\n",
       "      <td>67.100000</td>\n",
       "      <td>2.420000</td>\n",
       "      <td>81.000000</td>\n",
       "      <td>1.000000</td>\n",
       "    </tr>\n",
       "  </tbody>\n",
       "</table>\n",
       "</div>"
      ],
      "text/plain": [
       "       Pregnancies     Glucose  BloodPressure  SkinThickness     Insulin  \\\n",
       "count   768.000000  768.000000     768.000000     768.000000  768.000000   \n",
       "mean      3.845052  120.894531      69.105469      20.536458   79.799479   \n",
       "std       3.369578   31.972618      19.355807      15.952218  115.244002   \n",
       "min       0.000000    0.000000       0.000000       0.000000    0.000000   \n",
       "25%       1.000000   99.000000      62.000000       0.000000    0.000000   \n",
       "50%       3.000000  117.000000      72.000000      23.000000   30.500000   \n",
       "75%       6.000000  140.250000      80.000000      32.000000  127.250000   \n",
       "max      17.000000  199.000000     122.000000      99.000000  846.000000   \n",
       "\n",
       "              BMI  DiabetesPedigreeFunction         Age     Outcome  \n",
       "count  768.000000                768.000000  768.000000  768.000000  \n",
       "mean    31.992578                  0.471876   33.240885    0.348958  \n",
       "std      7.884160                  0.331329   11.760232    0.476951  \n",
       "min      0.000000                  0.078000   21.000000    0.000000  \n",
       "25%     27.300000                  0.243750   24.000000    0.000000  \n",
       "50%     32.000000                  0.372500   29.000000    0.000000  \n",
       "75%     36.600000                  0.626250   41.000000    1.000000  \n",
       "max     67.100000                  2.420000   81.000000    1.000000  "
      ]
     },
     "execution_count": 14,
     "metadata": {},
     "output_type": "execute_result"
    }
   ],
   "source": [
    "data.describe()"
   ]
  },
  {
   "cell_type": "code",
   "execution_count": 15,
   "id": "5efc14b1",
   "metadata": {
    "execution": {
     "iopub.execute_input": "2024-12-29T23:24:24.270915Z",
     "iopub.status.busy": "2024-12-29T23:24:24.270485Z",
     "iopub.status.idle": "2024-12-29T23:24:24.801669Z",
     "shell.execute_reply": "2024-12-29T23:24:24.800446Z"
    },
    "papermill": {
     "duration": 0.539896,
     "end_time": "2024-12-29T23:24:24.804167",
     "exception": false,
     "start_time": "2024-12-29T23:24:24.264271",
     "status": "completed"
    },
    "tags": []
   },
   "outputs": [
    {
     "data": {
      "text/plain": [
       "<Axes: >"
      ]
     },
     "execution_count": 15,
     "metadata": {},
     "output_type": "execute_result"
    },
    {
     "data": {
      "image/png": "[encoded data removed]",
      "text/plain": [
       "<Figure size 640x480 with 2 Axes>"
      ]
     },
     "metadata": {},
     "output_type": "display_data"
    }
   ],
   "source": [
    "sns.heatmap(data.corr(),annot=True,linewidth=2,fmt='0.1')"
   ]
  },
  {
   "cell_type": "code",
   "execution_count": 16,
   "id": "cfb59ddf",
   "metadata": {
    "execution": {
     "iopub.execute_input": "2024-12-29T23:24:24.820365Z",
     "iopub.status.busy": "2024-12-29T23:24:24.820032Z",
     "iopub.status.idle": "2024-12-29T23:24:24.998589Z",
     "shell.execute_reply": "2024-12-29T23:24:24.997499Z"
    },
    "papermill": {
     "duration": 0.189252,
     "end_time": "2024-12-29T23:24:25.000960",
     "exception": false,
     "start_time": "2024-12-29T23:24:24.811708",
     "status": "completed"
    },
    "tags": []
   },
   "outputs": [
    {
     "data": {
      "text/plain": [
       "Text(0.5, 1.0, 'Counting  Outcome ')"
      ]
     },
     "execution_count": 16,
     "metadata": {},
     "output_type": "execute_result"
    },
    {
     "data": {
      "image/png": "[encoded data removed]",
      "text/plain": [
       "<Figure size 640x480 with 1 Axes>"
      ]
     },
     "metadata": {},
     "output_type": "display_data"
    }
   ],
   "source": [
    "sns.countplot(x=data['Outcome'] ,data=data,palette=['g','r'])\n",
    "plt.title('Counting  Outcome ')"
   ]
  },
  {
   "cell_type": "code",
   "execution_count": 17,
   "id": "cf62d54d",
   "metadata": {
    "execution": {
     "iopub.execute_input": "2024-12-29T23:24:25.018283Z",
     "iopub.status.busy": "2024-12-29T23:24:25.017920Z",
     "iopub.status.idle": "2024-12-29T23:24:25.526347Z",
     "shell.execute_reply": "2024-12-29T23:24:25.525242Z"
    },
    "papermill": {
     "duration": 0.519091,
     "end_time": "2024-12-29T23:24:25.528388",
     "exception": false,
     "start_time": "2024-12-29T23:24:25.009297",
     "status": "completed"
    },
    "tags": []
   },
   "outputs": [
    {
     "data": {
      "image/png": "[encoded data removed]",
      "text/plain": [
       "<Figure size 900x500 with 3 Axes>"
      ]
     },
     "metadata": {},
     "output_type": "display_data"
    }
   ],
   "source": [
    "plt.figure(figsize=(9,5))\n",
    "plt.subplot(1,3,1)\n",
    "sns.countplot(x='Pregnancies',data=data)\n",
    "\n",
    "plt.subplot(1,3,2)\n",
    "sns.distplot(data['Pregnancies'])\n",
    "\n",
    "plt.subplot(1,3,3)\n",
    "sns.boxplot(data['Pregnancies'])\n",
    "plt.show()"
   ]
  },
  {
   "cell_type": "code",
   "execution_count": 18,
   "id": "b47e1821",
   "metadata": {
    "execution": {
     "iopub.execute_input": "2024-12-29T23:24:25.547243Z",
     "iopub.status.busy": "2024-12-29T23:24:25.546896Z",
     "iopub.status.idle": "2024-12-29T23:24:25.552447Z",
     "shell.execute_reply": "2024-12-29T23:24:25.551463Z"
    },
    "papermill": {
     "duration": 0.016747,
     "end_time": "2024-12-29T23:24:25.554241",
     "exception": false,
     "start_time": "2024-12-29T23:24:25.537494",
     "status": "completed"
    },
    "tags": []
   },
   "outputs": [],
   "source": [
    "x=data.drop('Outcome',axis=1)\n",
    "y=data['Outcome']"
   ]
  },
  {
   "cell_type": "code",
   "execution_count": 19,
   "id": "05e503c7",
   "metadata": {
    "execution": {
     "iopub.execute_input": "2024-12-29T23:24:25.572485Z",
     "iopub.status.busy": "2024-12-29T23:24:25.572134Z",
     "iopub.status.idle": "2024-12-29T23:24:25.579370Z",
     "shell.execute_reply": "2024-12-29T23:24:25.578499Z"
    },
    "papermill": {
     "duration": 0.018453,
     "end_time": "2024-12-29T23:24:25.581240",
     "exception": false,
     "start_time": "2024-12-29T23:24:25.562787",
     "status": "completed"
    },
    "tags": []
   },
   "outputs": [],
   "source": [
    "x_train,x_test,y_train,y_test=train_test_split(x,y,test_size=.30)"
   ]
  },
  {
   "cell_type": "markdown",
   "id": "679784a0",
   "metadata": {
    "papermill": {
     "duration": 0.008175,
     "end_time": "2024-12-29T23:24:25.598266",
     "exception": false,
     "start_time": "2024-12-29T23:24:25.590091",
     "status": "completed"
    },
    "tags": []
   },
   "source": [
    "# create_model\n"
   ]
  },
  {
   "cell_type": "code",
   "execution_count": 20,
   "id": "5662bb14",
   "metadata": {
    "execution": {
     "iopub.execute_input": "2024-12-29T23:24:25.616430Z",
     "iopub.status.busy": "2024-12-29T23:24:25.616106Z",
     "iopub.status.idle": "2024-12-29T23:24:25.620376Z",
     "shell.execute_reply": "2024-12-29T23:24:25.619405Z"
    },
    "papermill": {
     "duration": 0.015272,
     "end_time": "2024-12-29T23:24:25.622054",
     "exception": false,
     "start_time": "2024-12-29T23:24:25.606782",
     "status": "completed"
    },
    "tags": []
   },
   "outputs": [],
   "source": [
    "model=LogisticRegression()"
   ]
  },
  {
   "cell_type": "code",
   "execution_count": 21,
   "id": "642f2abd",
   "metadata": {
    "execution": {
     "iopub.execute_input": "2024-12-29T23:24:25.640654Z",
     "iopub.status.busy": "2024-12-29T23:24:25.640259Z",
     "iopub.status.idle": "2024-12-29T23:24:25.644287Z",
     "shell.execute_reply": "2024-12-29T23:24:25.643246Z"
    },
    "papermill": {
     "duration": 0.015047,
     "end_time": "2024-12-29T23:24:25.645849",
     "exception": false,
     "start_time": "2024-12-29T23:24:25.630802",
     "status": "completed"
    },
    "tags": []
   },
   "outputs": [],
   "source": [
    "result=[]"
   ]
  },
  {
   "cell_type": "code",
   "execution_count": 22,
   "id": "2a0ec470",
   "metadata": {
    "execution": {
     "iopub.execute_input": "2024-12-29T23:24:25.663993Z",
     "iopub.status.busy": "2024-12-29T23:24:25.663580Z",
     "iopub.status.idle": "2024-12-29T23:24:25.668269Z",
     "shell.execute_reply": "2024-12-29T23:24:25.667272Z"
    },
    "papermill": {
     "duration": 0.015471,
     "end_time": "2024-12-29T23:24:25.669834",
     "exception": false,
     "start_time": "2024-12-29T23:24:25.654363",
     "status": "completed"
    },
    "tags": []
   },
   "outputs": [],
   "source": [
    "def calling(model):\n",
    "    model.fit(x_train,y_train)\n",
    "    pre=model.predict(x_test)\n",
    "    accur=accuracy_score(pre,y_test)\n",
    "    result.append(accur)\n",
    "    print(model)\n",
    "    print('accuracy is :',accur)\n"
   ]
  },
  {
   "cell_type": "code",
   "execution_count": 23,
   "id": "e612d9d5",
   "metadata": {
    "execution": {
     "iopub.execute_input": "2024-12-29T23:24:25.688250Z",
     "iopub.status.busy": "2024-12-29T23:24:25.687865Z",
     "iopub.status.idle": "2024-12-29T23:24:25.723941Z",
     "shell.execute_reply": "2024-12-29T23:24:25.722853Z"
    },
    "papermill": {
     "duration": 0.047155,
     "end_time": "2024-12-29T23:24:25.725733",
     "exception": false,
     "start_time": "2024-12-29T23:24:25.678578",
     "status": "completed"
    },
    "tags": []
   },
   "outputs": [
    {
     "name": "stdout",
     "output_type": "stream",
     "text": [
      "LogisticRegression()\n",
      "accuracy is : 0.7619047619047619\n"
     ]
    }
   ],
   "source": [
    "calling(model)"
   ]
  },
  {
   "cell_type": "code",
   "execution_count": 24,
   "id": "d96bd222",
   "metadata": {},
   "outputs": [
    {
     "name": "stdout",
     "output_type": "stream",
     "text": [
      "Model saved as model.joblib\n"
     ]
    }
   ],
   "source": [
    "from joblib import dump\n",
    "\n",
    "# Save the model to a file\n",
    "dump(model, 'bc_model.joblib')\n",
    "\n",
    "print(\"Model saved as model.joblib\")\n"
   ]
  },
  {
   "cell_type": "code",
   "execution_count": null,
   "id": "e696865d",
   "metadata": {},
   "outputs": [],
   "source": []
  }
 ],
 "metadata": {
  "kaggle": {
   "accelerator": "none",
   "dataSources": [
    {
     "datasetId": 818300,
     "sourceId": 1400440,
     "sourceType": "datasetVersion"
    }
   ],
   "dockerImageVersionId": 30822,
   "isGpuEnabled": false,
   "isInternetEnabled": true,
   "language": "python",
   "sourceType": "notebook"
  },
  "kernelspec": {
   "display_name": "basicpy",
   "language": "python",
   "name": "python3"
  },
  "language_info": {
   "codemirror_mode": {
    "name": "ipython",
    "version": 3
   },
   "file_extension": ".py",
   "mimetype": "text/x-python",
   "name": "python",
   "nbconvert_exporter": "python",
   "pygments_lexer": "ipython3",
   "version": "3.12.8"
  },
  "papermill": {
   "default_parameters": {},
   "duration": 7.731187,
   "end_time": "2024-12-29T23:24:27.124659",
   "environment_variables": {},
   "exception": null,
   "input_path": "__notebook__.ipynb",
   "output_path": "__notebook__.ipynb",
   "parameters": {},
   "start_time": "2024-12-29T23:24:19.393472",
   "version": "2.6.0"
  }
 },
 "nbformat": 4,
 "nbformat_minor": 5
}
